{
 "cells": [
  {
   "cell_type": "code",
   "execution_count": 1,
   "metadata": {},
   "outputs": [],
   "source": [
    "import requests\n",
    "from bs4 import BeautifulSoup\n",
    "import json\n",
    "import pandas as pd"
   ]
  },
  {
   "cell_type": "code",
   "execution_count": 2,
   "metadata": {},
   "outputs": [],
   "source": [
    "# scrape satu pertandingan, nanti akan menginputkan kode pertandingan\n",
    "base_url = 'https://understat.com/match/'\n",
    "match = str(input('Please enter the match id: '))\n",
    "url = base_url+match"
   ]
  },
  {
   "cell_type": "code",
   "execution_count": 3,
   "metadata": {},
   "outputs": [],
   "source": [
    "# requests alamat website\n",
    "res = requests.get(url)\n",
    "soup = BeautifulSoup(res.content, 'lxml')\n",
    "scripts = soup.find_all('script')"
   ]
  },
  {
   "cell_type": "code",
   "execution_count": 4,
   "metadata": {},
   "outputs": [],
   "source": [
    "# hanya mendapatkan shotsData dari skrip\n",
    "strings = scripts[1].string"
   ]
  },
  {
   "cell_type": "code",
   "execution_count": 5,
   "metadata": {},
   "outputs": [],
   "source": [
    "# menghapus simbol yang tidak perlu dan hanya mendapatkan data JSON\n",
    "ind_start = strings.index(\"('\")+2\n",
    "ind_end = strings.index(\"')\")\n",
    "json_data = strings[ind_start:ind_end]\n",
    "json_data = json_data.encode('utf8').decode('unicode_escape')"
   ]
  },
  {
   "cell_type": "code",
   "execution_count": 6,
   "metadata": {},
   "outputs": [
    {
     "name": "stdout",
     "output_type": "stream",
     "text": [
      "{'h': [{'id': '582178', 'minute': '0', 'result': 'MissedShots', 'X': '0.830999984741211', 'Y': '0.23299999237060548', 'xG': '0.017442826181650162', 'player': 'Kai Havertz', 'h_a': 'h', 'player_id': '5220', 'situation': 'OpenPlay', 'season': '2023', 'shotType': 'LeftFoot', 'match_id': '22265', 'h_team': 'Arsenal', 'a_team': 'Everton', 'h_goals': '2', 'a_goals': '1', 'date': '2024-05-19 15:00:00', 'player_assisted': 'Gabriel Martinelli', 'lastAction': 'Pass'}, {'id': '582179', 'minute': '3', 'result': 'BlockedShot', 'X': '0.865', 'Y': '0.504000015258789', 'xG': '0.08037687838077545', 'player': 'Takehiro Tomiyasu', 'h_a': 'h', 'player_id': '7931', 'situation': 'OpenPlay', 'season': '2023', 'shotType': 'RightFoot', 'match_id': '22265', 'h_team': 'Arsenal', 'a_team': 'Everton', 'h_goals': '2', 'a_goals': '1', 'date': '2024-05-19 15:00:00', 'player_assisted': None, 'lastAction': 'None'}, {'id': '582180', 'minute': '5', 'result': 'MissedShots', 'X': '0.9719999694824218', 'Y': '0.575999984741211', 'xG': '0.3114989101886749', 'player': 'Takehiro Tomiyasu', 'h_a': 'h', 'player_id': '7931', 'situation': 'FromCorner', 'season': '2023', 'shotType': 'Head', 'match_id': '22265', 'h_team': 'Arsenal', 'a_team': 'Everton', 'h_goals': '2', 'a_goals': '1', 'date': '2024-05-19 15:00:00', 'player_assisted': 'Declan Rice', 'lastAction': 'Cross'}, {'id': '582181', 'minute': '11', 'result': 'SavedShot', 'X': '0.8590000152587891', 'Y': '0.4540000152587891', 'xG': '0.07599175721406937', 'player': 'Declan Rice', 'h_a': 'h', 'player_id': '5553', 'situation': 'OpenPlay', 'season': '2023', 'shotType': 'LeftFoot', 'match_id': '22265', 'h_team': 'Arsenal', 'a_team': 'Everton', 'h_goals': '2', 'a_goals': '1', 'date': '2024-05-19 15:00:00', 'player_assisted': 'Martin Odegaard', 'lastAction': 'BallRecovery'}, {'id': '582182', 'minute': '14', 'result': 'BlockedShot', 'X': '0.9009999847412109', 'Y': '0.514000015258789', 'xG': '0.027825765311717987', 'player': 'Kai Havertz', 'h_a': 'h', 'player_id': '5220', 'situation': 'FromCorner', 'season': '2023', 'shotType': 'Head', 'match_id': '22265', 'h_team': 'Arsenal', 'a_team': 'Everton', 'h_goals': '2', 'a_goals': '1', 'date': '2024-05-19 15:00:00', 'player_assisted': 'Martin Odegaard', 'lastAction': 'Aerial'}, {'id': '582183', 'minute': '15', 'result': 'SavedShot', 'X': '0.8619999694824219', 'Y': '0.34400001525878904', 'xG': '0.08282254636287689', 'player': 'Gabriel Martinelli', 'h_a': 'h', 'player_id': '7752', 'situation': 'OpenPlay', 'season': '2023', 'shotType': 'RightFoot', 'match_id': '22265', 'h_team': 'Arsenal', 'a_team': 'Everton', 'h_goals': '2', 'a_goals': '1', 'date': '2024-05-19 15:00:00', 'player_assisted': 'Ben White', 'lastAction': 'TakeOn'}, {'id': '582185', 'minute': '26', 'result': 'BlockedShot', 'X': '0.8680000305175781', 'Y': '0.445', 'xG': '0.1243632361292839', 'player': 'Kai Havertz', 'h_a': 'h', 'player_id': '5220', 'situation': 'OpenPlay', 'season': '2023', 'shotType': 'LeftFoot', 'match_id': '22265', 'h_team': 'Arsenal', 'a_team': 'Everton', 'h_goals': '2', 'a_goals': '1', 'date': '2024-05-19 15:00:00', 'player_assisted': 'Ben White', 'lastAction': 'Chipped'}, {'id': '582188', 'minute': '32', 'result': 'BlockedShot', 'X': '0.9', 'Y': '0.3920000076293945', 'xG': '0.07722058147192001', 'player': 'Kai Havertz', 'h_a': 'h', 'player_id': '5220', 'situation': 'OpenPlay', 'season': '2023', 'shotType': 'LeftFoot', 'match_id': '22265', 'h_team': 'Arsenal', 'a_team': 'Everton', 'h_goals': '2', 'a_goals': '1', 'date': '2024-05-19 15:00:00', 'player_assisted': None, 'lastAction': 'None'}, {'id': '582189', 'minute': '32', 'result': 'BlockedShot', 'X': '0.7869999694824219', 'Y': '0.505', 'xG': '0.029413307085633278', 'player': 'Gabriel', 'h_a': 'h', 'player_id': '5613', 'situation': 'OpenPlay', 'season': '2023', 'shotType': 'LeftFoot', 'match_id': '22265', 'h_team': 'Arsenal', 'a_team': 'Everton', 'h_goals': '2', 'a_goals': '1', 'date': '2024-05-19 15:00:00', 'player_assisted': None, 'lastAction': 'Rebound'}, {'id': '582191', 'minute': '42', 'result': 'Goal', 'X': '0.865999984741211', 'Y': '0.5270000076293946', 'xG': '0.08649498969316483', 'player': 'Takehiro Tomiyasu', 'h_a': 'h', 'player_id': '7931', 'situation': 'OpenPlay', 'season': '2023', 'shotType': 'RightFoot', 'match_id': '22265', 'h_team': 'Arsenal', 'a_team': 'Everton', 'h_goals': '2', 'a_goals': '1', 'date': '2024-05-19 15:00:00', 'player_assisted': 'Martin Odegaard', 'lastAction': 'Pass'}, {'id': '582194', 'minute': '46', 'result': 'MissedShots', 'X': '0.9159999847412109', 'Y': '0.5209999847412109', 'xG': '0.11610186100006104', 'player': 'Kai Havertz', 'h_a': 'h', 'player_id': '5220', 'situation': 'OpenPlay', 'season': '2023', 'shotType': 'Head', 'match_id': '22265', 'h_team': 'Arsenal', 'a_team': 'Everton', 'h_goals': '2', 'a_goals': '1', 'date': '2024-05-19 15:00:00', 'player_assisted': 'Gabriel Martinelli', 'lastAction': 'Cross'}, {'id': '582192', 'minute': '50', 'result': 'BlockedShot', 'X': '0.9119999694824219', 'Y': '0.43099998474121093', 'xG': '0.03923143073916435', 'player': 'Kai Havertz', 'h_a': 'h', 'player_id': '5220', 'situation': 'OpenPlay', 'season': '2023', 'shotType': 'Head', 'match_id': '22265', 'h_team': 'Arsenal', 'a_team': 'Everton', 'h_goals': '2', 'a_goals': '1', 'date': '2024-05-19 15:00:00', 'player_assisted': 'Takehiro Tomiyasu', 'lastAction': 'Aerial'}, {'id': '582193', 'minute': '50', 'result': 'MissedShots', 'X': '0.8030000305175782', 'Y': '0.42700000762939455', 'xG': '0.0411798469722271', 'player': 'Thomas Partey', 'h_a': 'h', 'player_id': '2328', 'situation': 'OpenPlay', 'season': '2023', 'shotType': 'RightFoot', 'match_id': '22265', 'h_team': 'Arsenal', 'a_team': 'Everton', 'h_goals': '2', 'a_goals': '1', 'date': '2024-05-19 15:00:00', 'player_assisted': 'Martin Odegaard', 'lastAction': 'Pass'}, {'id': '582196', 'minute': '64', 'result': 'BlockedShot', 'X': '0.9569999694824218', 'Y': '0.395', 'xG': '0.016236072406172752', 'player': 'Takehiro Tomiyasu', 'h_a': 'h', 'player_id': '7931', 'situation': 'FromCorner', 'season': '2023', 'shotType': 'Head', 'match_id': '22265', 'h_team': 'Arsenal', 'a_team': 'Everton', 'h_goals': '2', 'a_goals': '1', 'date': '2024-05-19 15:00:00', 'player_assisted': 'Martin Odegaard', 'lastAction': 'Aerial'}, {'id': '582197', 'minute': '64', 'result': 'MissedShots', 'X': '0.7919999694824219', 'Y': '0.34599998474121096', 'xG': '0.019297171384096146', 'player': 'Declan Rice', 'h_a': 'h', 'player_id': '5553', 'situation': 'FromCorner', 'season': '2023', 'shotType': 'RightFoot', 'match_id': '22265', 'h_team': 'Arsenal', 'a_team': 'Everton', 'h_goals': '2', 'a_goals': '1', 'date': '2024-05-19 15:00:00', 'player_assisted': None, 'lastAction': 'None'}, {'id': '582198', 'minute': '66', 'result': 'ShotOnPost', 'X': '0.9180000305175782', 'Y': '0.5479999923706055', 'xG': '0.11555080860853195', 'player': 'Kai Havertz', 'h_a': 'h', 'player_id': '5220', 'situation': 'OpenPlay', 'season': '2023', 'shotType': 'Head', 'match_id': '22265', 'h_team': 'Arsenal', 'a_team': 'Everton', 'h_goals': '2', 'a_goals': '1', 'date': '2024-05-19 15:00:00', 'player_assisted': 'Gabriel Martinelli', 'lastAction': 'Cross'}, {'id': '582199', 'minute': '71', 'result': 'SavedShot', 'X': '0.9019999694824219', 'Y': '0.5320000076293945', 'xG': '0.4345802664756775', 'player': 'Martin Odegaard', 'h_a': 'h', 'player_id': '2517', 'situation': 'OpenPlay', 'season': '2023', 'shotType': 'LeftFoot', 'match_id': '22265', 'h_team': 'Arsenal', 'a_team': 'Everton', 'h_goals': '2', 'a_goals': '1', 'date': '2024-05-19 15:00:00', 'player_assisted': 'Leandro Trossard', 'lastAction': 'Pass'}, {'id': '582200', 'minute': '71', 'result': 'BlockedShot', 'X': '0.8880000305175781', 'Y': '0.5479999923706055', 'xG': '0.10229108482599258', 'player': 'Emile Smith-Rowe', 'h_a': 'h', 'player_id': '7230', 'situation': 'OpenPlay', 'season': '2023', 'shotType': 'RightFoot', 'match_id': '22265', 'h_team': 'Arsenal', 'a_team': 'Everton', 'h_goals': '2', 'a_goals': '1', 'date': '2024-05-19 15:00:00', 'player_assisted': None, 'lastAction': 'Rebound'}, {'id': '582201', 'minute': '73', 'result': 'BlockedShot', 'X': '0.7240000152587891', 'Y': '0.5690000152587891', 'xG': '0.019228694960474968', 'player': 'Leandro Trossard', 'h_a': 'h', 'player_id': '7698', 'situation': 'OpenPlay', 'season': '2023', 'shotType': 'RightFoot', 'match_id': '22265', 'h_team': 'Arsenal', 'a_team': 'Everton', 'h_goals': '2', 'a_goals': '1', 'date': '2024-05-19 15:00:00', 'player_assisted': 'Martin Odegaard', 'lastAction': 'Pass'}, {'id': '582202', 'minute': '73', 'result': 'MissedShots', 'X': '0.7859999847412109', 'Y': '0.69', 'xG': '0.018068399280309677', 'player': 'Emile Smith-Rowe', 'h_a': 'h', 'player_id': '7230', 'situation': 'OpenPlay', 'season': '2023', 'shotType': 'RightFoot', 'match_id': '22265', 'h_team': 'Arsenal', 'a_team': 'Everton', 'h_goals': '2', 'a_goals': '1', 'date': '2024-05-19 15:00:00', 'player_assisted': 'Kai Havertz', 'lastAction': 'Pass'}, {'id': '582203', 'minute': '82', 'result': 'ShotOnPost', 'X': '0.8969999694824219', 'Y': '0.5820000076293945', 'xG': '0.08295127749443054', 'player': 'Emile Smith-Rowe', 'h_a': 'h', 'player_id': '7230', 'situation': 'OpenPlay', 'season': '2023', 'shotType': 'RightFoot', 'match_id': '22265', 'h_team': 'Arsenal', 'a_team': 'Everton', 'h_goals': '2', 'a_goals': '1', 'date': '2024-05-19 15:00:00', 'player_assisted': 'Gabriel Martinelli', 'lastAction': 'Cross'}, {'id': '582204', 'minute': '85', 'result': 'BlockedShot', 'X': '0.895', 'Y': '0.6719999694824219', 'xG': '0.0499337762594223', 'player': 'Gabriel Jesus', 'h_a': 'h', 'player_id': '5543', 'situation': 'FromCorner', 'season': '2023', 'shotType': 'RightFoot', 'match_id': '22265', 'h_team': 'Arsenal', 'a_team': 'Everton', 'h_goals': '2', 'a_goals': '1', 'date': '2024-05-19 15:00:00', 'player_assisted': 'Declan Rice', 'lastAction': 'Pass'}, {'id': '582205', 'minute': '86', 'result': 'MissedShots', 'X': '0.92', 'Y': '0.5270000076293946', 'xG': '0.35258960723876953', 'player': 'Kai Havertz', 'h_a': 'h', 'player_id': '5220', 'situation': 'OpenPlay', 'season': '2023', 'shotType': 'Head', 'match_id': '22265', 'h_team': 'Arsenal', 'a_team': 'Everton', 'h_goals': '2', 'a_goals': '1', 'date': '2024-05-19 15:00:00', 'player_assisted': 'Gabriel Martinelli', 'lastAction': 'Cross'}, {'id': '582206', 'minute': '88', 'result': 'MissedShots', 'X': '0.8959999847412109', 'Y': '0.43200000762939456', 'xG': '0.3842051923274994', 'player': 'Martin Odegaard', 'h_a': 'h', 'player_id': '2517', 'situation': 'OpenPlay', 'season': '2023', 'shotType': 'LeftFoot', 'match_id': '22265', 'h_team': 'Arsenal', 'a_team': 'Everton', 'h_goals': '2', 'a_goals': '1', 'date': '2024-05-19 15:00:00', 'player_assisted': 'Gabriel Jesus', 'lastAction': 'Pass'}, {'id': '582207', 'minute': '88', 'result': 'Goal', 'X': '0.9630000305175781', 'Y': '0.509000015258789', 'xG': '0.7686353921890259', 'player': 'Kai Havertz', 'h_a': 'h', 'player_id': '5220', 'situation': 'OpenPlay', 'season': '2023', 'shotType': 'LeftFoot', 'match_id': '22265', 'h_team': 'Arsenal', 'a_team': 'Everton', 'h_goals': '2', 'a_goals': '1', 'date': '2024-05-19 15:00:00', 'player_assisted': 'Martin Odegaard', 'lastAction': 'Rebound'}, {'id': '582208', 'minute': '96', 'result': 'MissedShots', 'X': '0.8530000305175781', 'Y': '0.445', 'xG': '0.08020839840173721', 'player': 'Gabriel Martinelli', 'h_a': 'h', 'player_id': '7752', 'situation': 'OpenPlay', 'season': '2023', 'shotType': 'LeftFoot', 'match_id': '22265', 'h_team': 'Arsenal', 'a_team': 'Everton', 'h_goals': '2', 'a_goals': '1', 'date': '2024-05-19 15:00:00', 'player_assisted': 'Oleksandr Zinchenko', 'lastAction': 'Chipped'}], 'a': [{'id': '582184', 'minute': '16', 'result': 'BlockedShot', 'X': '0.7659999847412109', 'Y': '0.3990000152587891', 'xG': '0.06904318183660507', 'player': 'Dominic Calvert-Lewin', 'h_a': 'a', 'player_id': '5555', 'situation': 'DirectFreekick', 'season': '2023', 'shotType': 'RightFoot', 'match_id': '22265', 'h_team': 'Arsenal', 'a_team': 'Everton', 'h_goals': '2', 'a_goals': '1', 'date': '2024-05-19 15:00:00', 'player_assisted': None, 'lastAction': 'Standard'}, {'id': '582186', 'minute': '31', 'result': 'ShotOnPost', 'X': '0.8480000305175781', 'Y': '0.6029999923706054', 'xG': '0.09864979982376099', 'player': 'Dominic Calvert-Lewin', 'h_a': 'a', 'player_id': '5555', 'situation': 'OpenPlay', 'season': '2023', 'shotType': 'RightFoot', 'match_id': '22265', 'h_team': 'Arsenal', 'a_team': 'Everton', 'h_goals': '2', 'a_goals': '1', 'date': '2024-05-19 15:00:00', 'player_assisted': 'Idrissa Gueye', 'lastAction': 'Pass'}, {'id': '582187', 'minute': '31', 'result': 'MissedShots', 'X': '0.9019999694824219', 'Y': '0.6079999923706054', 'xG': '0.43616217374801636', 'player': 'Dominic Calvert-Lewin', 'h_a': 'a', 'player_id': '5555', 'situation': 'OpenPlay', 'season': '2023', 'shotType': 'RightFoot', 'match_id': '22265', 'h_team': 'Arsenal', 'a_team': 'Everton', 'h_goals': '2', 'a_goals': '1', 'date': '2024-05-19 15:00:00', 'player_assisted': None, 'lastAction': 'Rebound'}, {'id': '582190', 'minute': '39', 'result': 'Goal', 'X': '0.755', 'Y': '0.6220000076293946', 'xG': '0.05790741741657257', 'player': 'Idrissa Gueye', 'h_a': 'a', 'player_id': '668', 'situation': 'DirectFreekick', 'season': '2023', 'shotType': 'RightFoot', 'match_id': '22265', 'h_team': 'Arsenal', 'a_team': 'Everton', 'h_goals': '2', 'a_goals': '1', 'date': '2024-05-19 15:00:00', 'player_assisted': None, 'lastAction': 'Standard'}, {'id': '582195', 'minute': '62', 'result': 'SavedShot', 'X': '0.8340000152587891', 'Y': '0.6480000305175782', 'xG': '0.046169035136699677', 'player': 'Dominic Calvert-Lewin', 'h_a': 'a', 'player_id': '5555', 'situation': 'OpenPlay', 'season': '2023', 'shotType': 'RightFoot', 'match_id': '22265', 'h_team': 'Arsenal', 'a_team': 'Everton', 'h_goals': '2', 'a_goals': '1', 'date': '2024-05-19 15:00:00', 'player_assisted': 'Idrissa Gueye', 'lastAction': 'TakeOn'}]}\n"
     ]
    }
   ],
   "source": [
    "# mengonversi string ke format json\n",
    "data = json.loads(json_data)\n",
    "print(data)"
   ]
  },
  {
   "cell_type": "code",
   "execution_count": 7,
   "metadata": {},
   "outputs": [],
   "source": [
    "x = []\n",
    "y = []\n",
    "xG = []\n",
    "result = []\n",
    "team = []\n",
    "data_away = data['a']\n",
    "data_home = data['h']\n",
    "minute = []\n",
    "shotType = []\n",
    "player = []\n",
    "match_id = []\n",
    "situation = []\n",
    "player_assisted = []\n",
    "lastAction = []\n",
    "\n",
    "for index in range(len(data_home)):\n",
    "    for key in data_home[index]:\n",
    "        if key == 'X':\n",
    "            x.append(data_home[index][key])\n",
    "        if key == 'Y':\n",
    "            y.append(data_home[index][key])\n",
    "        if key == 'h_team':\n",
    "            team.append(data_home[index][key])\n",
    "        if key == 'xG':\n",
    "            xG.append(data_home[index][key])\n",
    "        if key == 'result':\n",
    "            result.append(data_home[index][key])\n",
    "        if key == 'minute':\n",
    "            minute.append(data_home[index][key])\n",
    "        if key == 'shotType':\n",
    "            shotType.append(data_home[index][key])\n",
    "        if key == 'player':\n",
    "            player.append(data_home[index][key])\n",
    "        if key == 'match_id':\n",
    "            match_id.append(data_home[index][key])\n",
    "        if key == 'situation':\n",
    "            situation.append(data_home[index][key])\n",
    "        if key == 'player_assisted':\n",
    "            player_assisted.append(data_home[index][key])\n",
    "        if key == 'lastAction':\n",
    "            lastAction.append(data_home[index][key])\n",
    "\n",
    "for index in range(len(data_away)):\n",
    "    for key in data_away[index]:\n",
    "        if key == 'X':\n",
    "            x.append(data_away[index][key])\n",
    "        if key == 'Y':\n",
    "            y.append(data_away[index][key])\n",
    "        if key == 'a_team':\n",
    "            team.append(data_away[index][key])\n",
    "        if key == 'xG':\n",
    "            xG.append(data_away[index][key])\n",
    "        if key == 'result':\n",
    "            result.append(data_away[index][key])\n",
    "        if key == 'minute':\n",
    "            minute.append(data_away[index][key])\n",
    "        if key == 'shotType':\n",
    "            shotType.append(data_away[index][key])\n",
    "        if key == 'player':\n",
    "            player.append(data_away[index][key])\n",
    "        if key == 'match_id':\n",
    "            match_id.append(data_away[index][key])\n",
    "        if key == 'situation':\n",
    "            situation.append(data_away[index][key])\n",
    "        if key == 'player_assisted':\n",
    "            player_assisted.append(data_away[index][key])\n",
    "        if key == 'lastAction':\n",
    "            lastAction.append(data_away[index][key])\n",
    "\n",
    "col_names = ['x','y','xG','result','team','minute','shotType','player','match_id','situation','player_assisted','lastAction']\n",
    "df = pd.DataFrame([x,y,xG,result,team,minute,shotType,player,match_id,situation,player_assisted,lastAction],index=col_names)\n",
    "df = df.T"
   ]
  },
  {
   "cell_type": "code",
   "execution_count": 8,
   "metadata": {},
   "outputs": [],
   "source": [
    "# download df\n",
    "df.to_csv(r'data_Under_Radar.csv', index=False, header=True)"
   ]
  }
 ],
 "metadata": {
  "kernelspec": {
   "display_name": "base",
   "language": "python",
   "name": "python3"
  },
  "language_info": {
   "codemirror_mode": {
    "name": "ipython",
    "version": 3
   },
   "file_extension": ".py",
   "mimetype": "text/x-python",
   "name": "python",
   "nbconvert_exporter": "python",
   "pygments_lexer": "ipython3",
   "version": "3.9.6"
  },
  "orig_nbformat": 4
 },
 "nbformat": 4,
 "nbformat_minor": 2
}
